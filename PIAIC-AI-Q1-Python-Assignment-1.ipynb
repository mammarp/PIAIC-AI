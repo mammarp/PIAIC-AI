{
 "cells": [
  {
   "cell_type": "markdown",
   "metadata": {},
   "source": [
    "# PIAIC-AI-Q1-Python-Assignment-1\n",
    "***"
   ]
  },
  {
   "cell_type": "markdown",
   "metadata": {},
   "source": [
    "### 1. Calculate Area of a Circle\n",
    "Q) Write a Python program which accepts the radius of a circle from the user and compute the area.\n",
    "###### Program Console Sample Output 1:\n",
    "Input Radius: 0.5<br>\n",
    "Area of Circle with radius 0.5 is 0.7853981634"
   ]
  },
  {
   "cell_type": "code",
   "execution_count": 1,
   "metadata": {},
   "outputs": [
    {
     "name": "stdout",
     "output_type": "stream",
     "text": [
      "Input the radius of the circle: 0.5\n",
      "The area of the circle with radius 0.5 is: 0.7853981633974483\n"
     ]
    }
   ],
   "source": [
    "from math import pi\n",
    "radius = float(input (\"Input the radius of the circle: \"))\n",
    "print (\"The area of the circle with radius \" + str(radius) + \" is: \" + str(pi * radius**2))"
   ]
  },
  {
   "cell_type": "markdown",
   "metadata": {},
   "source": [
    "***"
   ]
  },
  {
   "cell_type": "markdown",
   "metadata": {},
   "source": [
    "### 2. Check Number either positive, negative or zero\n",
    "Q) Write a Python program to check if a number is positive, negative or zero.\n",
    "###### Program Console Sample Output 1:\n",
    "Enter Number: -1<br>\n",
    "Negative Number Entered\n",
    "###### Program Console Sample Output 2:\n",
    "Integer: 3<br>\n",
    "Positive Number Entered\n",
    "###### Program Console Sample Output 3:\n",
    "Integer: 0<br>\n",
    "Zero Entered\n"
   ]
  },
  {
   "cell_type": "code",
   "execution_count": 2,
   "metadata": {},
   "outputs": [
    {
     "name": "stdout",
     "output_type": "stream",
     "text": [
      "Enter Number: 3\n",
      "Positive Number Entered\n"
     ]
    }
   ],
   "source": [
    "enterd_number = int(input(\"Enter Number: \"))\n",
    "if enterd_number > 0:\n",
    "   print(\"Positive Number Entered\")\n",
    "elif enterd_number == 0:\n",
    "   print(\"Zero Entered\")\n",
    "else:\n",
    "   print(\"Negative Number Entered\")"
   ]
  },
  {
   "cell_type": "markdown",
   "metadata": {},
   "source": [
    "***"
   ]
  },
  {
   "cell_type": "markdown",
   "metadata": {},
   "source": [
    "### 3. Divisibility Check of two numbers\n",
    "Q) Write a Python program to check whether a number is completely divisible by another number. Accept two integer\n",
    "values form the user.\n",
    "###### Program Console Sample Output 1:\n",
    "Enter numerator: 4<br>\n",
    "Enter Denominator: 2<br>\n",
    "Number 4 is Completely divisible by 2\n",
    "\n",
    "###### Program Console Sample Output 2:\n",
    "Enter numerator: 7<br>\n",
    "Enter Denominator: 4<br>\n",
    "Number 7 is not Completely divisible by 4"
   ]
  },
  {
   "cell_type": "code",
   "execution_count": 3,
   "metadata": {
    "scrolled": true
   },
   "outputs": [
    {
     "name": "stdout",
     "output_type": "stream",
     "text": [
      "Enter Numerator: 7\n",
      "Enter Denominator: 4\n",
      "Number 7 is not Completely divisible by 4\n"
     ]
    }
   ],
   "source": [
    "def multiple(m, n):\n",
    "    return True if m % n == 0 else False\n",
    "\n",
    "numerator = int(input(\"Enter Numerator: \"))\n",
    "denominator = int(input(\"Enter Denominator: \"))\n",
    "\n",
    "if multiple(numerator,denominator):\n",
    "    print(\"Number \" + str(numerator) + \" is Completely divisible by \"+ str(denominator))\n",
    "else:\n",
    "    print(\"Number \" + str(numerator) + \" is not Completely divisible by \"+ str(denominator))\n",
    "\n"
   ]
  },
  {
   "cell_type": "markdown",
   "metadata": {},
   "source": [
    "***"
   ]
  },
  {
   "cell_type": "markdown",
   "metadata": {},
   "source": [
    "### 4. Days Calculator\n",
    "Q) Write a Python program to calculate number of days between two dates.\n",
    "###### Program Console Output:\n",
    "Enter a date in (dd/mm/yy) format: 12/12/2018<br>\n",
    "Enter a date in (dd/mm/yy) format: 16/12/2018<br>\n",
    "There are 4 days in between 12/12/2018 and 16/12/18"
   ]
  },
  {
   "cell_type": "code",
   "execution_count": 8,
   "metadata": {},
   "outputs": [
    {
     "name": "stdout",
     "output_type": "stream",
     "text": [
      "Enter a starting date in (dd/mm/yy) format: 12/12/2018\n",
      "Enter a starting date in (dd/mm/yy) format: 16/12/2018\n",
      "There are 4 days in between 12/12/2018 and 16/12/2018\n"
     ]
    }
   ],
   "source": [
    "import datetime\n",
    "from datetime import date\n",
    "  \n",
    "def numOfDays(date1, date2): \n",
    "    return (date2-date1).days \n",
    "      \n",
    "date_1_input = input(\"Enter a starting date in (dd/mm/yy) format: \")\n",
    "day_1, month_1, year_1  = map(int, date_1_input.split('/'))\n",
    "\n",
    "date_2_input = input(\"Enter a starting date in (dd/mm/yy) format: \")\n",
    "day_2, month_2, year_2 = map(int, date_2_input.split('/'))\n",
    "\n",
    "date_1 = date(year_1, month_1, day_1)\n",
    "date_2 = date(year_2, month_2, day_2)\n",
    "\n",
    "print(\"There are \" + str(numOfDays(date_1, date_2)) + \" days in between \" + str(date_1_input) + \" and \" + str(date_2_input))"
   ]
  },
  {
   "cell_type": "markdown",
   "metadata": {},
   "source": [
    "***"
   ]
  },
  {
   "cell_type": "markdown",
   "metadata": {},
   "source": [
    "### 5. Calculate Volume of a sphere\n",
    "Q) Write a Python program to get the volume of a sphere, please take the radius as input from user.\n",
    "###### Program Console Output:\n",
    "Enter Radius of Sphere: 1<br>\n",
    "Volume of the Sphere with Radius 1 is 4.18"
   ]
  },
  {
   "cell_type": "code",
   "execution_count": 4,
   "metadata": {},
   "outputs": [
    {
     "name": "stdout",
     "output_type": "stream",
     "text": [
      "Radius of sphere: 1\n",
      "Volume of the Sphere with Radius 1.0 is 4.19\n"
     ]
    }
   ],
   "source": [
    "from math import pi\n",
    "\n",
    "radius = float(input(\"Radius of sphere: \"))\n",
    "volume = (4/3) * (pi * radius ** 3)\n",
    "\n",
    "print(\"Volume of the Sphere with Radius \" + str(radius) + \" is \" + str(round(volume,2)))"
   ]
  },
  {
   "cell_type": "markdown",
   "metadata": {},
   "source": [
    "***"
   ]
  },
  {
   "cell_type": "markdown",
   "metadata": {},
   "source": [
    "### 6. Copy string n times\n",
    "Q) Write a Python program to get a string which is n (non-negative integer) copies of a given string.\n",
    "###### Program Console Output:\n",
    "Enter String: Hi<br>\n",
    "How many copies of String you need: 4<br>\n",
    "4 Copies of Hi are HiHiHiHi\n"
   ]
  },
  {
   "cell_type": "code",
   "execution_count": 1,
   "metadata": {},
   "outputs": [
    {
     "name": "stdout",
     "output_type": "stream",
     "text": [
      "Enter String: Hi\n",
      "How many copies of String you need: 4\n",
      "4 Copies of Hi are HiHiHiHi\n"
     ]
    }
   ],
   "source": [
    "def number_of_copies(str, n):\n",
    "   result = \"\"\n",
    "   for i in range(n):\n",
    "      result += str\n",
    "   return result\n",
    "\n",
    "entered_string = input(\"Enter String: \")\n",
    "num_of_copy = int(input(\"How many copies of String you need: \"))\n",
    "\n",
    "result = number_of_copies(entered_string,num_of_copy)\n",
    "\n",
    "print(str(num_of_copy) + \" Copies of \" + str(entered_string) +\" are \" + str(result))"
   ]
  },
  {
   "cell_type": "markdown",
   "metadata": {},
   "source": [
    "***"
   ]
  },
  {
   "cell_type": "markdown",
   "metadata": {},
   "source": [
    "### 7. Check if number is Even or Odd\n",
    "Q) Write a Python program to find whether a given number (accept from the user) is even or odd, print out an appropriate\n",
    "message to the user.\n",
    "###### Program Console Output 1:\n",
    "Enter Number: 4<br>\n",
    "4 is Even\n",
    "###### Program Console Output 2:\n",
    "Enter Number: 9<br>\n",
    "9 is Odd<br>\n"
   ]
  },
  {
   "cell_type": "code",
   "execution_count": 5,
   "metadata": {},
   "outputs": [
    {
     "name": "stdout",
     "output_type": "stream",
     "text": [
      "Enter number: 9\n",
      "9 is an odd number.\n"
     ]
    }
   ],
   "source": [
    "num = int(input(\"Enter number: \"))\n",
    "mod = num % 2\n",
    "if mod > 0:\n",
    "    print(num,\"is an odd number.\")\n",
    "else:\n",
    "    print(num,\"is an even number.\")"
   ]
  },
  {
   "cell_type": "markdown",
   "metadata": {},
   "source": [
    "***"
   ]
  },
  {
   "cell_type": "markdown",
   "metadata": {},
   "source": [
    "### 8. Vowel Tester\n",
    "Q) Write a Python program to test whether a passed letter is a vowel or not.\n",
    "###### Program Console Output 1:\n",
    "Enter a character: A<br>\n",
    "Letter A is Vowel\n",
    "###### Program Console Output 2:\n",
    "Enter a character: e<br>\n",
    "Letter e is Vowel\n",
    "###### Program Console Output 2:\n",
    "Enter a character: N<br>\n",
    "Letter N is not Vowel"
   ]
  },
  {
   "cell_type": "code",
   "execution_count": 12,
   "metadata": {},
   "outputs": [
    {
     "name": "stdout",
     "output_type": "stream",
     "text": [
      "Enter a character: A\n",
      "Letter A is a Vowel\n"
     ]
    }
   ],
   "source": [
    "def is_vowel(char):\n",
    "    all_vowels = 'aeiouAEIOU'\n",
    "    return char in all_vowels\n",
    "char = input(\"Enter a character: \")\n",
    "\n",
    "if is_vowel(char):\n",
    "    print(\"Letter \" + char + \" is a Vowel\")\n",
    "else:\n",
    "    print(\"Letter \" + char + \" is not a Vowel\")"
   ]
  },
  {
   "cell_type": "markdown",
   "metadata": {},
   "source": [
    "***"
   ]
  },
  {
   "cell_type": "markdown",
   "metadata": {},
   "source": [
    "### 9. Triangle area\n",
    "Q) Write a Python program that will accept the base and height of a triangle and compute the area.\n",
    "###### Program Console Sample 1:\n",
    "Enter magnitude of Triangle base: 4<br>\n",
    "Enter Magnitude of Triangle Height: 4<br>\n",
    "Area of a Triangle with Height 4 and Base 4 is 8"
   ]
  },
  {
   "cell_type": "code",
   "execution_count": 6,
   "metadata": {},
   "outputs": [
    {
     "name": "stdout",
     "output_type": "stream",
     "text": [
      "Enter magnitude of Triangle base: 4\n",
      "Enter Magnitude of Triangle Height: 4\n",
      "Area of a Triangle with Height 4 and 4 is 8\n"
     ]
    }
   ],
   "source": [
    "base = int(input(\"Enter magnitude of Triangle base: \"))\n",
    "height = int(input(\"Enter Magnitude of Triangle Height: \"))\n",
    "\n",
    "area = base*height/2\n",
    "\n",
    "print(\"Area of a Triangle with Height\",height,\"and\",base,\"is\",int(area))"
   ]
  },
  {
   "cell_type": "markdown",
   "metadata": {},
   "source": [
    "***"
   ]
  },
  {
   "cell_type": "markdown",
   "metadata": {},
   "source": [
    "### 10. Calculate Interest\n",
    "Q) Write a Python program to compute the future value of a specified principal amount, rate of interest, and a number\n",
    "of years.\n",
    "\n",
    "###### Program Console Sample 1:\n",
    "Please enter principal amount: 10000<br>\n",
    "Please Enter Rate of interest in %: 0.1<br>\n",
    "Enter number of years for investment: 5<br>\n",
    "After 5 years your principal amount 10000 over an interest rate of 0.1 % will be 16105.1"
   ]
  },
  {
   "cell_type": "code",
   "execution_count": 49,
   "metadata": {},
   "outputs": [
    {
     "name": "stdout",
     "output_type": "stream",
     "text": [
      "Please enter principal amount: 10000\n",
      "Please Enter Rate of interest in %: 0.1\n",
      "Enter number of years for investment: 5\n",
      "After 5 years your principal amount 10000 over an interest rate of 0.1 will be 16105.1\n"
     ]
    }
   ],
   "source": [
    "amount = int(input(\"Please enter principal amount: \"))\n",
    "interest = float(input(\"Please Enter Rate of interest in %: \"))\n",
    "years = int(input(\"Enter number of years for investment: \"))\n",
    "\n",
    "future_value = amount*((1+interest)** years)\n",
    "#future_value = amount * (pow((1 + interest / 100), years)) \n",
    "#future_value = (amount*years*interest)/100\n",
    "print(\"After\",years,\"years your principal amount\",amount,\"over an interest rate of\",interest,\"will be\",round(future_value,2))"
   ]
  },
  {
   "cell_type": "markdown",
   "metadata": {},
   "source": [
    "***"
   ]
  },
  {
   "cell_type": "markdown",
   "metadata": {},
   "source": [
    "### 11. Euclidean distance\n",
    "Q) Write a Python program to compute the distance between the points (x1, y1) and (x2, y2).\n",
    "###### Program Console Sample 1:\n",
    "Enter Co-ordinate for x1: 2<br>\n",
    "Enter Co-ordinate for x2: 4<br>\n",
    "Enter Co-ordinate for y1: 4<br>\n",
    "Enter Co-ordinate for y2: 4<br>\n",
    "Distance between points (2, 4) and (4, 4) is 2"
   ]
  },
  {
   "cell_type": "code",
   "execution_count": 8,
   "metadata": {},
   "outputs": [
    {
     "name": "stdout",
     "output_type": "stream",
     "text": [
      "Enter Co-ordinate for x1: 2\n",
      "Enter Co-ordinate for x2: 4\n",
      "Enter Co-ordinate for y1: 4\n",
      "Enter Co-ordinate for y2: 4\n",
      "Distance between points (2, 4) and (4, 4) is 2\n"
     ]
    }
   ],
   "source": [
    "import math\n",
    "x1 = int(input(\"Enter Co-ordinate for x1: \"))\n",
    "x2 = int(input(\"Enter Co-ordinate for x2: \"))\n",
    "y1 = int(input(\"Enter Co-ordinate for y1: \"))\n",
    "y2 = int(input(\"Enter Co-ordinate for y2: \"))\n",
    "\n",
    "p1 = [x1, x2]\n",
    "p2 = [y1, y2]\n",
    "distance = math.sqrt( ((p1[0]-p2[0])**2)+((p1[1]-p2[1])**2) )\n",
    "\n",
    "print(\"Distance between points (\"+str(x1)+\", \"+str(x2)+\") and (\"+str(y1)+\", \"+str(y2)+\") is\",int(distance))"
   ]
  },
  {
   "cell_type": "markdown",
   "metadata": {},
   "source": [
    "***"
   ]
  },
  {
   "cell_type": "markdown",
   "metadata": {},
   "source": [
    "### 12. Feet to Centimeter Converter\n",
    "Q) Write a Python program to convert height in feet to centimetres.\n",
    "###### Program Console Sample 1:\n",
    "Enter Height in Feet: 5<br>\n",
    "There are 152.4 Cm in 5 ft<br>"
   ]
  },
  {
   "cell_type": "code",
   "execution_count": 9,
   "metadata": {},
   "outputs": [
    {
     "name": "stdout",
     "output_type": "stream",
     "text": [
      "Enter Height in Feet: 5\n",
      "There are 152.4 in 5 ft\n"
     ]
    }
   ],
   "source": [
    "ft = int(input(\"Enter Height in Feet: \"))\n",
    "cm = round(ft/0.032808,2)\n",
    "print(\"There are\",cm,\"in\",ft,\"ft\")"
   ]
  },
  {
   "cell_type": "markdown",
   "metadata": {},
   "source": [
    "***"
   ]
  },
  {
   "cell_type": "markdown",
   "metadata": {},
   "source": [
    "### 13. BMI Calculator\n",
    "Q) Write a Python program to calculate body mass index.\n",
    "###### Program Console Sample 1:\n",
    "Enter Height in Cm: 180<br>\n",
    "Enter Weight in Kg: 75<br>\n",
    "Your BMI is 23.15<br>"
   ]
  },
  {
   "cell_type": "code",
   "execution_count": 4,
   "metadata": {},
   "outputs": [
    {
     "name": "stdout",
     "output_type": "stream",
     "text": [
      "Enter Height in Cm: 180\n",
      "Enter Weight in Kg: 75\n",
      "Your BMI is: 23.15\n"
     ]
    }
   ],
   "source": [
    "height = float(input(\"Enter Height in Cm: \"))\n",
    "weight = float(input(\"Enter Weight in Kg: \"))\n",
    "height *= 0.010000\n",
    "print(\"Your BMI is:\", round(weight / (height * height), 2))"
   ]
  },
  {
   "cell_type": "markdown",
   "metadata": {},
   "source": [
    "***"
   ]
  },
  {
   "cell_type": "markdown",
   "metadata": {},
   "source": [
    "### 14. Sum of n Positive Integers\n",
    "Q) Write a python program to sum of the first n positive integers.\n",
    "###### Program Console Sample 1:\n",
    "Enter value of n: 5<br>\n",
    "Sum of n Positive integers till 5 is 15<br>"
   ]
  },
  {
   "cell_type": "code",
   "execution_count": 10,
   "metadata": {},
   "outputs": [
    {
     "name": "stdout",
     "output_type": "stream",
     "text": [
      "Enter value of n: 5\n",
      "Sum of n Positive integers till 5 is 15\n"
     ]
    }
   ],
   "source": [
    "n = int(input(\"Enter value of n: \"))\n",
    "sum_num = (n * (n + 1)) / 2\n",
    "print(\"Sum of n Positive integers till\",n,\"is\",int(sum_num))"
   ]
  },
  {
   "cell_type": "markdown",
   "metadata": {},
   "source": [
    "***"
   ]
  },
  {
   "cell_type": "markdown",
   "metadata": {},
   "source": [
    "### 15. Digits Sum of a Number\n",
    "Q) Write a Python program to calculate the sum of the digits in an integer.\n",
    "###### Program Console Sample 1:\n",
    "Enter a number: 15<br>\n",
    "Sum of 1 + 5 is 6\n",
    "###### Program Console Sample 2:\n",
    "Enter a number: 1234<br>\n",
    "Sum of 1 + 2 + 3 + 4 is 10"
   ]
  },
  {
   "cell_type": "code",
   "execution_count": 47,
   "metadata": {},
   "outputs": [
    {
     "name": "stdout",
     "output_type": "stream",
     "text": [
      "Enter a number:123\n",
      "Sum of 1 + 2 + 3 is: 6\n"
     ]
    }
   ],
   "source": [
    "num = int(input(\"Enter a number:\"))\n",
    "total= 0\n",
    "list_of_numbers = []\n",
    "while(num>0):\n",
    "    dig = num%10\n",
    "    total = total+dig\n",
    "    num = num//10\n",
    "    list_of_numbers.append(dig)\n",
    "\n",
    "sum_numbers = \"\"\n",
    "list_of_numbers.reverse()\n",
    "\n",
    "for i in range(len(list_of_numbers)):\n",
    "    if int(len((list_of_numbers))-1) != i:\n",
    "        sum_numbers += (str(list_of_numbers[i])+\" + \")\n",
    "    else:\n",
    "        sum_numbers += (str(list_of_numbers[i]))\n",
    "    \n",
    "print(\"Sum of \"+sum_numbers+\" is:\",total)"
   ]
  },
  {
   "cell_type": "markdown",
   "metadata": {},
   "source": [
    "***"
   ]
  },
  {
   "cell_type": "markdown",
   "metadata": {},
   "source": [
    "### 16. Decimal to Binary Converter\n",
    "Q) Write a Python program to convert an decimal integer to binary.\n",
    "\n",
    "###### Program Console Sample 1:\n",
    "Enter a decimal number: 5<br>\n",
    "Binary Representation of 5 is 101\n",
    "###### Program Console Sample 2:\n",
    "Enter a decimal number: 32<br>\n",
    "Binary Representation of 32 is 100000\n"
   ]
  },
  {
   "cell_type": "code",
   "execution_count": 11,
   "metadata": {},
   "outputs": [
    {
     "name": "stdout",
     "output_type": "stream",
     "text": [
      "Enter a decimal number: 32\n",
      "Binary Representation of 32 is 100000\n"
     ]
    }
   ],
   "source": [
    "d_number = int(input(\"Enter a decimal number: \"))\n",
    "print(\"Binary Representation of\",d_number,\"is\",bin(d_number)[2:])"
   ]
  },
  {
   "cell_type": "markdown",
   "metadata": {},
   "source": [
    "***"
   ]
  },
  {
   "cell_type": "markdown",
   "metadata": {},
   "source": [
    "# 17. Binary to Decimal Converter\n",
    "Q) Write a program to convert binary number to Decimal number.\n",
    "###### Program Console Sample 1:\n",
    "Enter a Binary number: 1101<br>\n",
    "Decimal Representation of 1101 is 13\n",
    "###### Program Console Sample 2:\n",
    "Enter a Binary number: 1001<br>\n",
    "Decimal Representation of 1001 is 9"
   ]
  },
  {
   "cell_type": "code",
   "execution_count": 12,
   "metadata": {},
   "outputs": [
    {
     "name": "stdout",
     "output_type": "stream",
     "text": [
      "Enter a Binary number: 1001\n",
      "Decimal Representation of 1001 is 9\n"
     ]
    }
   ],
   "source": [
    "def binaryToDecimal(n): \n",
    "    return int(n,2) \n",
    "\n",
    "b_number = input(\"Enter a Binary number: \")\n",
    "res = binaryToDecimal(b_number)\n",
    "print(\"Decimal Representation of \"+str(b_number)+\" is \"+str(res))"
   ]
  },
  {
   "cell_type": "markdown",
   "metadata": {},
   "source": [
    "***"
   ]
  },
  {
   "cell_type": "markdown",
   "metadata": {},
   "source": [
    "### 18. Vowel and Consonants Counter\n",
    "Q) Input a text and count the occurrences of vowels and consonant.\n",
    "###### Program Console Sample 1:\n",
    "Enter text: QuickBrownFoxJumpsovertheDog<br>\n",
    "Vowels: 9<br>\n",
    "Consonants: 19"
   ]
  },
  {
   "cell_type": "code",
   "execution_count": 13,
   "metadata": {},
   "outputs": [
    {
     "name": "stdout",
     "output_type": "stream",
     "text": [
      "Enter text: QuickBrownFoxJumpsovertheDog\n",
      "Vowels 9\n",
      "Consonants: 19\n"
     ]
    }
   ],
   "source": [
    "entered_string = input(\"Enter text: \")\n",
    "vowels = 0\n",
    "consonants = 0\n",
    "\n",
    "for i in entered_string:\n",
    "    if(i == 'a' or i == 'e' or i == 'i' or i == 'o' or i == 'u'\n",
    "       or i == 'A' or i == 'E' or i == 'I' or i == 'O' or i == 'U'):\n",
    "        vowels = vowels + 1\n",
    "    else:\n",
    "        consonants = consonants + 1\n",
    "\n",
    "print(\"Vowels\", vowels)\n",
    "print(\"Consonants:\", consonants)"
   ]
  },
  {
   "cell_type": "markdown",
   "metadata": {},
   "source": [
    "***"
   ]
  },
  {
   "cell_type": "markdown",
   "metadata": {},
   "source": [
    "### 19. Palindrome tester\n",
    "Q) Write a program to check whether given input is palindrome or not.\n",
    "###### Program Console Sample 1:\n",
    "Enter text: AHA<br>\n",
    "Text AHA is Palindrome\n",
    "###### Program Console Sample 2:\n",
    "Enter text: Hello<br>\n",
    "Text Hello is not a Palindrome"
   ]
  },
  {
   "cell_type": "code",
   "execution_count": 14,
   "metadata": {},
   "outputs": [
    {
     "name": "stdout",
     "output_type": "stream",
     "text": [
      "Enter text: AHA\n",
      "Text AHA is Palindrome\n"
     ]
    }
   ],
   "source": [
    "def isPalindrome(s): \n",
    "    rev = ''.join(reversed(s)) \n",
    "    if (s == rev): \n",
    "        return True\n",
    "    return False\n",
    "   \n",
    "enterted_text = str(input(\"Enter text: \"))\n",
    "  \n",
    "if (isPalindrome(enterted_text)): \n",
    "    print(\"Text\",enterted_text,\"is Palindrome\") \n",
    "else: \n",
    "    print(\"Text\",enterted_text,\"is not a Palindrome\") "
   ]
  },
  {
   "cell_type": "markdown",
   "metadata": {},
   "source": [
    "***"
   ]
  },
  {
   "cell_type": "markdown",
   "metadata": {},
   "source": [
    "### 20. Count Alphabets, Numbers and Special Characters\n",
    "Q) Write a Python program that accepts a string and calculate the number of digits and letters.\n",
    "###### Program Console Sample 1:\n",
    "Enter text: Python 3.2<br>\n",
    "Numbers = 2<br>\n",
    "Alphabets = 6<br>\n",
    "Special Characters = 1<br>\n",
    "Spaces = 1 "
   ]
  },
  {
   "cell_type": "code",
   "execution_count": 15,
   "metadata": {},
   "outputs": [
    {
     "name": "stdout",
     "output_type": "stream",
     "text": [
      "Enter text:  Python 3.2\n",
      "Numbers: 2\n",
      "Alphabets: 6\n",
      "Special Characters: 3\n",
      "Space: 2\n"
     ]
    }
   ],
   "source": [
    "string = input(\"Enter text: \")\n",
    "alphabets = digits = special = space = 0\n",
    "\n",
    "for i in range(len(string)):\n",
    "    if(string[i].isalpha()):\n",
    "        alphabets = alphabets + 1\n",
    "    elif(string[i].isdigit()):\n",
    "        digits = digits + 1\n",
    "    else:\n",
    "        special = special + 1\n",
    "        \n",
    "for s in string: \n",
    "    if (s.isspace()) == True: \n",
    "        space+=1\n",
    "\n",
    "\n",
    "print(\"Numbers:\", digits)        \n",
    "print(\"Alphabets:\", alphabets)\n",
    "print(\"Special Characters:\", special)\n",
    "print(\"Space:\", space)"
   ]
  },
  {
   "cell_type": "markdown",
   "metadata": {},
   "source": [
    "***"
   ]
  },
  {
   "cell_type": "markdown",
   "metadata": {},
   "source": [
    "### 21. Write a Python program to construct the following pattern\n",
    "Q) Output:\n",
    "\n",
    "![](https://i.imgur.com/jmJjEl5.png)"
   ]
  },
  {
   "cell_type": "code",
   "execution_count": 44,
   "metadata": {},
   "outputs": [
    {
     "name": "stdout",
     "output_type": "stream",
     "text": [
      "* \r\n",
      "* * \r\n",
      "* * * \r\n",
      "* * * * \r\n",
      "* * * * * \r\n",
      "* * * * \r\n",
      "* * * \r\n",
      "* * \r\n",
      "* \r\n",
      "\r\n"
     ]
    }
   ],
   "source": [
    "for i in range (5):\n",
    "    for j in range(0, i + 1):\n",
    "        print(\"*\", end=\" \")\n",
    "    print(\"\\r\")\n",
    "for i in range (5, 0, -1):\n",
    "    for j in range(0, i -1):\n",
    "        print(\"*\", end=\" \")\n",
    "    print(\"\\r\")"
   ]
  },
  {
   "cell_type": "markdown",
   "metadata": {},
   "source": [
    "***"
   ]
  },
  {
   "cell_type": "markdown",
   "metadata": {},
   "source": [
    "### 22. Write a Python program to construct the following pattern\n",
    "Q) Output:\n",
    "![](https://i.imgur.com/O3Drj4b.png)"
   ]
  },
  {
   "cell_type": "code",
   "execution_count": 43,
   "metadata": {},
   "outputs": [
    {
     "name": "stdout",
     "output_type": "stream",
     "text": [
      "\n",
      "1 \n",
      "1 2 \n",
      "1 2 3 \n",
      "1 2 3 4 \n",
      "1 2 3 4 5 \n",
      "1 2 3 4 \n",
      "1 2 3 \n",
      "1 2 \n",
      "1 \n",
      "\n",
      "\n"
     ]
    }
   ],
   "source": [
    "for row in range(6):\n",
    "    for column in range(1, row + 1):\n",
    "        print(column, end=\" \")\n",
    "    print(\"\")\n",
    "for row in range(6,0,-1):\n",
    "    for column in range(1, row - 1):\n",
    "        print(column, end=\" \")\n",
    "    print(\"\")"
   ]
  },
  {
   "cell_type": "markdown",
   "metadata": {},
   "source": [
    "***"
   ]
  },
  {
   "cell_type": "markdown",
   "metadata": {},
   "source": [
    "### 23. Write a Python program to construct the following pattern\n",
    "Q) Output:\n",
    "![](https://i.imgur.com/eqqArh3.png)"
   ]
  },
  {
   "cell_type": "code",
   "execution_count": 46,
   "metadata": {},
   "outputs": [
    {
     "name": "stdout",
     "output_type": "stream",
     "text": [
      "\r\n",
      "1\r\n",
      "22\r\n",
      "333\r\n",
      "4444\r\n",
      "55555\r\n",
      "666666\r\n",
      "7777777\r\n",
      "88888888\r\n",
      "999999999\r\n"
     ]
    }
   ],
   "source": [
    "for i in range(10):\n",
    "    for j in range(1,i+1):\n",
    "        print(i,end=\"\")\n",
    "    print(\"\\r\")"
   ]
  },
  {
   "cell_type": "markdown",
   "metadata": {},
   "source": [
    "***\n",
    "<center><b><h1>END</h1></b></center>"
   ]
  }
 ],
 "metadata": {
  "kernelspec": {
   "display_name": "Python 3",
   "language": "python",
   "name": "python3"
  },
  "language_info": {
   "codemirror_mode": {
    "name": "ipython",
    "version": 3
   },
   "file_extension": ".py",
   "mimetype": "text/x-python",
   "name": "python",
   "nbconvert_exporter": "python",
   "pygments_lexer": "ipython3",
   "version": "3.7.3"
  }
 },
 "nbformat": 4,
 "nbformat_minor": 2
}
